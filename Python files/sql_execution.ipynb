{
 "cells": [
  {
   "cell_type": "code",
   "execution_count": 1,
   "metadata": {},
   "outputs": [],
   "source": [
    "import mysql.connector\n",
    "import time\n"
   ]
  },
  {
   "cell_type": "code",
   "execution_count": 2,
   "metadata": {},
   "outputs": [],
   "source": [
    "# Establishing connection to the MySQL Database\n",
    "database = mysql.connector.connect(\n",
    "    host=\"localhost\",\n",
    "    user=\"root\",\n",
    "    passwd=\"titanium@231099\",\n",
    "    auth_plugin='mysql_native_password',\n",
    "    database=\"dbms\"\n",
    ")\n"
   ]
  },
  {
   "cell_type": "code",
   "execution_count": 3,
   "metadata": {},
   "outputs": [],
   "source": [
    "# Creating cursor to interact with the database\n",
    "my_cursor=database.cursor()"
   ]
  },
  {
   "cell_type": "code",
   "execution_count": 22,
   "metadata": {},
   "outputs": [],
   "source": [
    "# Record the start time to calculate the execution time\n",
    "s_time1 = time.time()\n",
    "\n",
    "# Example query with complex joins\n",
    "query = \"SELECT a.AID, a.Title, r.RName, af.AName, rpt.Type FROM article AS a, researcher AS r, affiliation AS af, researchproject AS rp, researchprojecttype AS rpt WHERE rp.OName IN ('Google','IBM') AND a.A_RID = r.RID AND r.AFID = af.AFID AND rp.RPID = rpt.RPID AND rp.rpid IN( SELECT a.rpid WHERE rp.rpid = a.rpid) UNION SELECT a.AID, a.Title, r.RName, af.AName, rpt.Type FROM article AS a, researcher AS r, affiliation AS af, researchproject AS rp, researchprojecttype AS rpt, coauthors AS c WHERE rp.OName IN ('Google','IBM') AND c.CA_RID = r.RID AND c.AID = a.AID AND r.AFID = af.AFID AND rp.RPID = rpt.RPID AND rp.rpid IN( SELECT a.rpid WHERE rp.rpid = a.rpid)\"\n",
    "\n",
    "# executing the query\n",
    "my_cursor.execute(query)\n",
    "\n",
    "# Calculating the execution time\n",
    "time1 = time.time() - s_time1"
   ]
  },
  {
   "cell_type": "code",
   "execution_count": 23,
   "metadata": {},
   "outputs": [],
   "source": [
    "# Fetching results from the executed query\n",
    "results = my_cursor.fetchall()"
   ]
  },
  {
   "cell_type": "code",
   "execution_count": 24,
   "metadata": {},
   "outputs": [
    {
     "name": "stdout",
     "output_type": "stream",
     "text": [
      "0.06080055236816406\n"
     ]
    }
   ],
   "source": [
    "# Printing the execution time of the query\n",
    "print(time1)"
   ]
  }
 ],
 "metadata": {
  "kernelspec": {
   "display_name": "Python 3",
   "language": "python",
   "name": "python3"
  },
  "language_info": {
   "codemirror_mode": {
    "name": "ipython",
    "version": 3
   },
   "file_extension": ".py",
   "mimetype": "text/x-python",
   "name": "python",
   "nbconvert_exporter": "python",
   "pygments_lexer": "ipython3",
   "version": "3.10.5"
  }
 },
 "nbformat": 4,
 "nbformat_minor": 2
}

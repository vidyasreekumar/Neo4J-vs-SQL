{
 "cells": [
  {
   "cell_type": "markdown",
   "metadata": {},
   "source": [
    "We collected research papers from different topics. We manually inputted the names of the subject that were of interest into the code , namely, Data Security, Artificial Intelligence, Robotics and Natural Language Programming."
   ]
  },
  {
   "cell_type": "code",
   "execution_count": 1,
   "metadata": {},
   "outputs": [],
   "source": [
    "import requests\n",
    "from bs4 import BeautifulSoup\n",
    "import pandas as pd\n",
    "\n",
    "\n",
    "\n",
    "\n",
    "#Base url\n",
    "base=f\"https://eric.ed.gov/?q= Data Security\"\n",
    "\n",
    "# Creating Lists\n",
    "article=[]\n",
    "authors_list=[]\n",
    "\n",
    "for i in range(1,15):\n",
    "\n",
    "    url_t= f\"{base}/page/{i}/?\"\n",
    "\n",
    "    #sending HTTP request to the page\n",
    "    res=requests.get(url_t)\n",
    "            \n",
    "    #parsing content\n",
    "    content=res.content\n",
    "    if res.status_code == 200:\n",
    "        parsed = BeautifulSoup(content, 'html.parser')\n",
    "        \n",
    "    # Find article titles and authors\n",
    "        for title in parsed.find_all(\"div\", {\"class\": \"r_t\"}):\n",
    "            article.append(title.text.strip())\n",
    "        for author in parsed.find_all(\"div\", {\"class\": \"r_a\"}):\n",
    "            authors_list.append(author.text.strip())\n"
   ]
  },
  {
   "cell_type": "code",
   "execution_count": 2,
   "metadata": {},
   "outputs": [
    {
     "data": {
      "text/html": [
       "<div>\n",
       "<style scoped>\n",
       "    .dataframe tbody tr th:only-of-type {\n",
       "        vertical-align: middle;\n",
       "    }\n",
       "\n",
       "    .dataframe tbody tr th {\n",
       "        vertical-align: top;\n",
       "    }\n",
       "\n",
       "    .dataframe thead th {\n",
       "        text-align: right;\n",
       "    }\n",
       "</style>\n",
       "<table border=\"1\" class=\"dataframe\">\n",
       "  <thead>\n",
       "    <tr style=\"text-align: right;\">\n",
       "      <th></th>\n",
       "      <th>Article</th>\n",
       "      <th>Authors_Journal</th>\n",
       "    </tr>\n",
       "  </thead>\n",
       "  <tbody>\n",
       "    <tr>\n",
       "      <th>0</th>\n",
       "      <td>Examining the Relationship between Human Capit...</td>\n",
       "      <td>Ukpere, Oscar – ProQuest LLC, 2019</td>\n",
       "    </tr>\n",
       "    <tr>\n",
       "      <th>1</th>\n",
       "      <td>Superintendent Perceptions of School Safety an...</td>\n",
       "      <td>Lenihan, Mark; De Jong, David; Ossian, James; ...</td>\n",
       "    </tr>\n",
       "    <tr>\n",
       "      <th>2</th>\n",
       "      <td>Assessing the Human Operating System: A Quanti...</td>\n",
       "      <td>Boyce, Stephen – ProQuest LLC, 2021</td>\n",
       "    </tr>\n",
       "    <tr>\n",
       "      <th>3</th>\n",
       "      <td>Structuring First-Year Retention at a Regional...</td>\n",
       "      <td>Collier, Daniel A.; Fitzpatrick, Dan; Brehm, C...</td>\n",
       "    </tr>\n",
       "    <tr>\n",
       "      <th>4</th>\n",
       "      <td>Cyber Security Awareness in Using Digital Plat...</td>\n",
       "      <td>Raju, Rajeswari; Abd Rahman, Nur Hidayah; Ahma...</td>\n",
       "    </tr>\n",
       "  </tbody>\n",
       "</table>\n",
       "</div>"
      ],
      "text/plain": [
       "                                             Article  \\\n",
       "0  Examining the Relationship between Human Capit...   \n",
       "1  Superintendent Perceptions of School Safety an...   \n",
       "2  Assessing the Human Operating System: A Quanti...   \n",
       "3  Structuring First-Year Retention at a Regional...   \n",
       "4  Cyber Security Awareness in Using Digital Plat...   \n",
       "\n",
       "                                     Authors_Journal  \n",
       "0                 Ukpere, Oscar – ProQuest LLC, 2019  \n",
       "1  Lenihan, Mark; De Jong, David; Ossian, James; ...  \n",
       "2                Boyce, Stephen – ProQuest LLC, 2021  \n",
       "3  Collier, Daniel A.; Fitzpatrick, Dan; Brehm, C...  \n",
       "4  Raju, Rajeswari; Abd Rahman, Nur Hidayah; Ahma...  "
      ]
     },
     "execution_count": 2,
     "metadata": {},
     "output_type": "execute_result"
    }
   ],
   "source": [
    "# Create a DataFrame with headings-Article and Authors & Journals \n",
    "df = pd.DataFrame({\"Article\":article,\"Authors_Journal\":authors_list})\n",
    "df.head()"
   ]
  },
  {
   "cell_type": "code",
   "execution_count": 7,
   "metadata": {},
   "outputs": [],
   "source": [
    "# Create a CSV file\n",
    "df.to_csv(r\"C:\\Users\\admin\\project_DB_design\\articles_uncleaned.csv\")"
   ]
  }
 ],
 "metadata": {
  "kernelspec": {
   "display_name": "Python 3",
   "language": "python",
   "name": "python3"
  },
  "language_info": {
   "codemirror_mode": {
    "name": "ipython",
    "version": 3
   },
   "file_extension": ".py",
   "mimetype": "text/x-python",
   "name": "python",
   "nbconvert_exporter": "python",
   "pygments_lexer": "ipython3",
   "version": "3.10.5"
  }
 },
 "nbformat": 4,
 "nbformat_minor": 2
}

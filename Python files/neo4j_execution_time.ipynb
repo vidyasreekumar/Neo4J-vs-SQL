{
 "cells": [
  {
   "cell_type": "code",
   "execution_count": null,
   "metadata": {},
   "outputs": [],
   "source": [
    "from neo4j import GraphDatabase\n",
    "import time"
   ]
  },
  {
   "cell_type": "code",
   "execution_count": null,
   "metadata": {},
   "outputs": [],
   "source": [
    "#Connect to the Neo4j\n",
    "uri = \"bolt://localhost:7687\"\n",
    "d = GraphDatabase.driver(uri, auth=(\"neo4j\",\"Nirwana@01\"))\n",
    "\n",
    "# Example query\n",
    "query = \"MATCH (a:Article) WHERE a.DBID = 'ACM5' AND a.PID = 'QAP1' RETURN a.Title AS ArticleTitle\"\n",
    "\n",
    "# Record the start time before query execution\n",
    "start_time= time.time()"
   ]
  },
  {
   "cell_type": "code",
   "execution_count": null,
   "metadata": {},
   "outputs": [],
   "source": [
    "# executing the query\n",
    "result = d.session().run(query)\n",
    "d.close()"
   ]
  },
  {
   "cell_type": "code",
   "execution_count": null,
   "metadata": {},
   "outputs": [],
   "source": [
    "\n",
    "\n",
    "# Calculating the execution time\n",
    "execution_time = time.time() - start_time\n",
    "print(execution_time)"
   ]
  }
 ],
 "metadata": {
  "language_info": {
   "name": "python"
  }
 },
 "nbformat": 4,
 "nbformat_minor": 2
}
